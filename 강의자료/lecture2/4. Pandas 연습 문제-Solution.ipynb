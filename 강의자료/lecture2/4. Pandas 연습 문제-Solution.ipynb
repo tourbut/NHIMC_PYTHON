{
 "cells": [
  {
   "cell_type": "code",
   "execution_count": 1,
   "id": "b6349a44",
   "metadata": {},
   "outputs": [],
   "source": [
    "import pandas as pd"
   ]
  },
  {
   "cell_type": "code",
   "execution_count": 3,
   "id": "355c77c7",
   "metadata": {},
   "outputs": [
    {
     "data": {
      "text/html": [
       "<div>\n",
       "<style scoped>\n",
       "    .dataframe tbody tr th:only-of-type {\n",
       "        vertical-align: middle;\n",
       "    }\n",
       "\n",
       "    .dataframe tbody tr th {\n",
       "        vertical-align: top;\n",
       "    }\n",
       "\n",
       "    .dataframe thead th {\n",
       "        text-align: right;\n",
       "    }\n",
       "</style>\n",
       "<table border=\"1\" class=\"dataframe\">\n",
       "  <thead>\n",
       "    <tr style=\"text-align: right;\">\n",
       "      <th></th>\n",
       "      <th>일자(stdr_de_id)</th>\n",
       "      <th>시간(tmzon_pd_se)</th>\n",
       "      <th>행정동코드(adstrd_code_se)</th>\n",
       "      <th>집계구코드(oa_cd)</th>\n",
       "      <th>생활인구합계(tot_lvpop_co)</th>\n",
       "      <th>남자0~9세(male_f0t9_lvpop_co)</th>\n",
       "      <th>남자10~14세(male_f10t14_lvpop_co)</th>\n",
       "      <th>남자15~19세(male_f15t19_lvpop_co)</th>\n",
       "      <th>남자20~24세(male_f20t24_lvpop_co)</th>\n",
       "      <th>남자25~29세(male_f25t29_lvpop_co)</th>\n",
       "      <th>...</th>\n",
       "      <th>여자40~44세(female_f40t44_lvpop_co)</th>\n",
       "      <th>여자45~49세(female_f45t49_lvpop_co)</th>\n",
       "      <th>여자50~54세(female_f50t54_lvpop_co)</th>\n",
       "      <th>여자55~59세(female_f55t59_lvpop_co)</th>\n",
       "      <th>여자60~64세(female_f60t64_lvpop_co)</th>\n",
       "      <th>여자65~69세(female_f65t69_lvpop_co)</th>\n",
       "      <th>여자70~74세(female_f70t74_lvpop_co)</th>\n",
       "      <th>여자75~79세(female_f75t79_lvpop_co)</th>\n",
       "      <th>여자80세이상(female_above_80_lvpop_co)</th>\n",
       "      <th>등록일자(ldadng_dt)</th>\n",
       "    </tr>\n",
       "  </thead>\n",
       "  <tbody>\n",
       "    <tr>\n",
       "      <th>0</th>\n",
       "      <td>20170226</td>\n",
       "      <td>4</td>\n",
       "      <td>11320515</td>\n",
       "      <td>1125061020007</td>\n",
       "      <td>4.3097</td>\n",
       "      <td>11.9781</td>\n",
       "      <td>8.2257</td>\n",
       "      <td>1.8759</td>\n",
       "      <td>4.2075</td>\n",
       "      <td>6.2647</td>\n",
       "      <td>...</td>\n",
       "      <td>9.0816</td>\n",
       "      <td>52.6711</td>\n",
       "      <td>24.9152</td>\n",
       "      <td>3.6202</td>\n",
       "      <td>91.3448</td>\n",
       "      <td>13.6818</td>\n",
       "      <td>45.2880</td>\n",
       "      <td>2.3141</td>\n",
       "      <td>9.7668</td>\n",
       "      <td>2021-08-17 16:06:44</td>\n",
       "    </tr>\n",
       "    <tr>\n",
       "      <th>1</th>\n",
       "      <td>20180107</td>\n",
       "      <td>22</td>\n",
       "      <td>11380510</td>\n",
       "      <td>1115071010309</td>\n",
       "      <td>338.3900</td>\n",
       "      <td>23.2446</td>\n",
       "      <td>3.1141</td>\n",
       "      <td>1.9972</td>\n",
       "      <td>2.6983</td>\n",
       "      <td>0.1240</td>\n",
       "      <td>...</td>\n",
       "      <td>10.0707</td>\n",
       "      <td>9.9150</td>\n",
       "      <td>14.6710</td>\n",
       "      <td>29.2192</td>\n",
       "      <td>0.1533</td>\n",
       "      <td>36.7707</td>\n",
       "      <td>0.9227</td>\n",
       "      <td>4.6111</td>\n",
       "      <td>18.1781</td>\n",
       "      <td>2021-08-17 16:06:44</td>\n",
       "    </tr>\n",
       "    <tr>\n",
       "      <th>2</th>\n",
       "      <td>20180317</td>\n",
       "      <td>6</td>\n",
       "      <td>11680610</td>\n",
       "      <td>1113073020101</td>\n",
       "      <td>1805.5256</td>\n",
       "      <td>4.3720</td>\n",
       "      <td>324.3596</td>\n",
       "      <td>10.8350</td>\n",
       "      <td>12.1324</td>\n",
       "      <td>20.4938</td>\n",
       "      <td>...</td>\n",
       "      <td>28.8794</td>\n",
       "      <td>19.4895</td>\n",
       "      <td>1.6087</td>\n",
       "      <td>16.2525</td>\n",
       "      <td>8.1640</td>\n",
       "      <td>34.3989</td>\n",
       "      <td>3.4030</td>\n",
       "      <td>3.8434</td>\n",
       "      <td>4.4772</td>\n",
       "      <td>2021-08-17 16:06:44</td>\n",
       "    </tr>\n",
       "    <tr>\n",
       "      <th>3</th>\n",
       "      <td>20190222</td>\n",
       "      <td>7</td>\n",
       "      <td>11305575</td>\n",
       "      <td>1106071020403</td>\n",
       "      <td>504.4956</td>\n",
       "      <td>14.0599</td>\n",
       "      <td>14.3256</td>\n",
       "      <td>3.5239</td>\n",
       "      <td>19.3154</td>\n",
       "      <td>6.8197</td>\n",
       "      <td>...</td>\n",
       "      <td>0.2650</td>\n",
       "      <td>36.5731</td>\n",
       "      <td>14.3217</td>\n",
       "      <td>35.7359</td>\n",
       "      <td>7.2808</td>\n",
       "      <td>6.9919</td>\n",
       "      <td>27.4321</td>\n",
       "      <td>1.8361</td>\n",
       "      <td>7.7510</td>\n",
       "      <td>2021-08-17 16:06:44</td>\n",
       "    </tr>\n",
       "    <tr>\n",
       "      <th>4</th>\n",
       "      <td>20210706</td>\n",
       "      <td>6</td>\n",
       "      <td>11740660</td>\n",
       "      <td>1107073040015</td>\n",
       "      <td>744.6219</td>\n",
       "      <td>0.5662</td>\n",
       "      <td>2.9824</td>\n",
       "      <td>2.9719</td>\n",
       "      <td>31.0868</td>\n",
       "      <td>7.2338</td>\n",
       "      <td>...</td>\n",
       "      <td>39.7471</td>\n",
       "      <td>1.5230</td>\n",
       "      <td>47.5514</td>\n",
       "      <td>63.4768</td>\n",
       "      <td>52.3638</td>\n",
       "      <td>35.3496</td>\n",
       "      <td>32.1275</td>\n",
       "      <td>85.6665</td>\n",
       "      <td>95.0249</td>\n",
       "      <td>2021-08-17 16:06:44</td>\n",
       "    </tr>\n",
       "  </tbody>\n",
       "</table>\n",
       "<p>5 rows × 38 columns</p>\n",
       "</div>"
      ],
      "text/plain": [
       "   일자(stdr_de_id)  시간(tmzon_pd_se)  행정동코드(adstrd_code_se)   집계구코드(oa_cd)  \\\n",
       "0        20170226                4               11320515  1125061020007   \n",
       "1        20180107               22               11380510  1115071010309   \n",
       "2        20180317                6               11680610  1113073020101   \n",
       "3        20190222                7               11305575  1106071020403   \n",
       "4        20210706                6               11740660  1107073040015   \n",
       "\n",
       "   생활인구합계(tot_lvpop_co)  남자0~9세(male_f0t9_lvpop_co)  \\\n",
       "0                4.3097                     11.9781   \n",
       "1              338.3900                     23.2446   \n",
       "2             1805.5256                      4.3720   \n",
       "3              504.4956                     14.0599   \n",
       "4              744.6219                      0.5662   \n",
       "\n",
       "   남자10~14세(male_f10t14_lvpop_co)  남자15~19세(male_f15t19_lvpop_co)  \\\n",
       "0                          8.2257                          1.8759   \n",
       "1                          3.1141                          1.9972   \n",
       "2                        324.3596                         10.8350   \n",
       "3                         14.3256                          3.5239   \n",
       "4                          2.9824                          2.9719   \n",
       "\n",
       "   남자20~24세(male_f20t24_lvpop_co)  남자25~29세(male_f25t29_lvpop_co)  ...  \\\n",
       "0                          4.2075                          6.2647  ...   \n",
       "1                          2.6983                          0.1240  ...   \n",
       "2                         12.1324                         20.4938  ...   \n",
       "3                         19.3154                          6.8197  ...   \n",
       "4                         31.0868                          7.2338  ...   \n",
       "\n",
       "   여자40~44세(female_f40t44_lvpop_co)  여자45~49세(female_f45t49_lvpop_co)  \\\n",
       "0                            9.0816                           52.6711   \n",
       "1                           10.0707                            9.9150   \n",
       "2                           28.8794                           19.4895   \n",
       "3                            0.2650                           36.5731   \n",
       "4                           39.7471                            1.5230   \n",
       "\n",
       "   여자50~54세(female_f50t54_lvpop_co)  여자55~59세(female_f55t59_lvpop_co)  \\\n",
       "0                           24.9152                            3.6202   \n",
       "1                           14.6710                           29.2192   \n",
       "2                            1.6087                           16.2525   \n",
       "3                           14.3217                           35.7359   \n",
       "4                           47.5514                           63.4768   \n",
       "\n",
       "   여자60~64세(female_f60t64_lvpop_co)  여자65~69세(female_f65t69_lvpop_co)  \\\n",
       "0                           91.3448                           13.6818   \n",
       "1                            0.1533                           36.7707   \n",
       "2                            8.1640                           34.3989   \n",
       "3                            7.2808                            6.9919   \n",
       "4                           52.3638                           35.3496   \n",
       "\n",
       "   여자70~74세(female_f70t74_lvpop_co)  여자75~79세(female_f75t79_lvpop_co)  \\\n",
       "0                           45.2880                            2.3141   \n",
       "1                            0.9227                            4.6111   \n",
       "2                            3.4030                            3.8434   \n",
       "3                           27.4321                            1.8361   \n",
       "4                           32.1275                           85.6665   \n",
       "\n",
       "   여자80세이상(female_above_80_lvpop_co)      등록일자(ldadng_dt)  \n",
       "0                             9.7668  2021-08-17 16:06:44  \n",
       "1                            18.1781  2021-08-17 16:06:44  \n",
       "2                             4.4772  2021-08-17 16:06:44  \n",
       "3                             7.7510  2021-08-17 16:06:44  \n",
       "4                            95.0249  2021-08-17 16:06:44  \n",
       "\n",
       "[5 rows x 38 columns]"
      ]
     },
     "execution_count": 3,
     "metadata": {},
     "output_type": "execute_result"
    }
   ],
   "source": [
    "sample = pd.read_csv(\"내국인 생활인구.csv\", encoding=\"cp949\")\n",
    "sample.head()"
   ]
  },
  {
   "cell_type": "markdown",
   "id": "33a613e1",
   "metadata": {},
   "source": [
    "  "
   ]
  },
  {
   "cell_type": "markdown",
   "id": "ab279806",
   "metadata": {},
   "source": [
    "  "
   ]
  },
  {
   "cell_type": "markdown",
   "id": "5e1dd889",
   "metadata": {},
   "source": [
    "## 1. 컬럼명 바꾸기\n",
    "\n",
    "sample에 있는 컬럼명에서 한글 컬럼명만 남겨주세요.  \n",
    "예시: `일자(stdr_de_id)` -> `일자`"
   ]
  },
  {
   "cell_type": "code",
   "execution_count": null,
   "id": "26bf5d7b",
   "metadata": {
    "scrolled": true
   },
   "outputs": [],
   "source": [
    "#답변 작성"
   ]
  },
  {
   "cell_type": "markdown",
   "id": "eb5abc39",
   "metadata": {},
   "source": [
    "  "
   ]
  },
  {
   "cell_type": "markdown",
   "id": "b96a8eac",
   "metadata": {},
   "source": [
    "## 2. 인덱스 설정\n",
    "`일자` 컬럼을 인덱스로 설정해주세요."
   ]
  },
  {
   "cell_type": "code",
   "execution_count": null,
   "id": "38baae03",
   "metadata": {
    "scrolled": false
   },
   "outputs": [],
   "source": [
    "#답변 작성"
   ]
  },
  {
   "cell_type": "markdown",
   "id": "936262e1",
   "metadata": {},
   "source": [
    "일자 인덱스를 datetime 형식으로 변경한 뒤, 날짜 오름차 순으로 데이터를 정렬할 것입니다.  \n",
    "astype() 메서드를 사용해서 sample.index를 str형으로 바꿔주세요.\n",
    "\n",
    "참고) https://pandas.pydata.org/docs/reference/api/pandas.DataFrame.astype.html"
   ]
  },
  {
   "cell_type": "code",
   "execution_count": null,
   "id": "729d7554",
   "metadata": {},
   "outputs": [],
   "source": [
    "#답변 작성"
   ]
  },
  {
   "cell_type": "markdown",
   "id": "b6f1f9f2",
   "metadata": {},
   "source": [
    "str로 변경된 인덱스를 pd.to_datetime 메서드를 사용하여 datetime 형식으로 바꿔주세요.\n",
    "\n",
    "참고) https://pandas.pydata.org/docs/reference/api/pandas.to_datetime.html"
   ]
  },
  {
   "cell_type": "code",
   "execution_count": null,
   "id": "12ec7845",
   "metadata": {},
   "outputs": [],
   "source": [
    "#답변 작성"
   ]
  },
  {
   "cell_type": "markdown",
   "id": "706ca369",
   "metadata": {},
   "source": [
    "sort_index() 메서드를 사용하여 주어진 데이터를 인덱스 날짜 오름차 순으로 정렬해주세요.\n",
    "\n",
    "참고) https://pandas.pydata.org/docs/reference/api/pandas.DataFrame.sort_index.html"
   ]
  },
  {
   "cell_type": "code",
   "execution_count": null,
   "id": "f4bf5c39",
   "metadata": {},
   "outputs": [],
   "source": [
    "#답변 작성"
   ]
  },
  {
   "cell_type": "markdown",
   "id": "eea7114d",
   "metadata": {},
   "source": [
    "  "
   ]
  },
  {
   "cell_type": "markdown",
   "id": "590453d6",
   "metadata": {},
   "source": [
    "## 3. 조건에 맞는 데이터 추출\n",
    "집계구 코드가 `1107073040015` 또는 `1113073020101`인 행을 뽑아주세요."
   ]
  },
  {
   "cell_type": "code",
   "execution_count": 9,
   "id": "4828d74b",
   "metadata": {
    "scrolled": true
   },
   "outputs": [
    {
     "data": {
      "text/html": [
       "<div>\n",
       "<style scoped>\n",
       "    .dataframe tbody tr th:only-of-type {\n",
       "        vertical-align: middle;\n",
       "    }\n",
       "\n",
       "    .dataframe tbody tr th {\n",
       "        vertical-align: top;\n",
       "    }\n",
       "\n",
       "    .dataframe thead th {\n",
       "        text-align: right;\n",
       "    }\n",
       "</style>\n",
       "<table border=\"1\" class=\"dataframe\">\n",
       "  <thead>\n",
       "    <tr style=\"text-align: right;\">\n",
       "      <th></th>\n",
       "      <th>일자(stdr_de_id)</th>\n",
       "      <th>시간(tmzon_pd_se)</th>\n",
       "      <th>행정동코드(adstrd_code_se)</th>\n",
       "      <th>집계구코드(oa_cd)</th>\n",
       "      <th>생활인구합계(tot_lvpop_co)</th>\n",
       "      <th>남자0~9세(male_f0t9_lvpop_co)</th>\n",
       "      <th>남자10~14세(male_f10t14_lvpop_co)</th>\n",
       "      <th>남자15~19세(male_f15t19_lvpop_co)</th>\n",
       "      <th>남자20~24세(male_f20t24_lvpop_co)</th>\n",
       "      <th>남자25~29세(male_f25t29_lvpop_co)</th>\n",
       "      <th>...</th>\n",
       "      <th>여자40~44세(female_f40t44_lvpop_co)</th>\n",
       "      <th>여자45~49세(female_f45t49_lvpop_co)</th>\n",
       "      <th>여자50~54세(female_f50t54_lvpop_co)</th>\n",
       "      <th>여자55~59세(female_f55t59_lvpop_co)</th>\n",
       "      <th>여자60~64세(female_f60t64_lvpop_co)</th>\n",
       "      <th>여자65~69세(female_f65t69_lvpop_co)</th>\n",
       "      <th>여자70~74세(female_f70t74_lvpop_co)</th>\n",
       "      <th>여자75~79세(female_f75t79_lvpop_co)</th>\n",
       "      <th>여자80세이상(female_above_80_lvpop_co)</th>\n",
       "      <th>등록일자(ldadng_dt)</th>\n",
       "    </tr>\n",
       "  </thead>\n",
       "  <tbody>\n",
       "    <tr>\n",
       "      <th>2</th>\n",
       "      <td>20180317</td>\n",
       "      <td>6</td>\n",
       "      <td>11680610</td>\n",
       "      <td>1113073020101</td>\n",
       "      <td>1805.5256</td>\n",
       "      <td>4.3720</td>\n",
       "      <td>324.3596</td>\n",
       "      <td>10.8350</td>\n",
       "      <td>12.1324</td>\n",
       "      <td>20.4938</td>\n",
       "      <td>...</td>\n",
       "      <td>28.8794</td>\n",
       "      <td>19.4895</td>\n",
       "      <td>1.6087</td>\n",
       "      <td>16.2525</td>\n",
       "      <td>8.1640</td>\n",
       "      <td>34.3989</td>\n",
       "      <td>3.4030</td>\n",
       "      <td>3.8434</td>\n",
       "      <td>4.4772</td>\n",
       "      <td>2021-08-17 16:06:44</td>\n",
       "    </tr>\n",
       "    <tr>\n",
       "      <th>4</th>\n",
       "      <td>20210706</td>\n",
       "      <td>6</td>\n",
       "      <td>11740660</td>\n",
       "      <td>1107073040015</td>\n",
       "      <td>744.6219</td>\n",
       "      <td>0.5662</td>\n",
       "      <td>2.9824</td>\n",
       "      <td>2.9719</td>\n",
       "      <td>31.0868</td>\n",
       "      <td>7.2338</td>\n",
       "      <td>...</td>\n",
       "      <td>39.7471</td>\n",
       "      <td>1.5230</td>\n",
       "      <td>47.5514</td>\n",
       "      <td>63.4768</td>\n",
       "      <td>52.3638</td>\n",
       "      <td>35.3496</td>\n",
       "      <td>32.1275</td>\n",
       "      <td>85.6665</td>\n",
       "      <td>95.0249</td>\n",
       "      <td>2021-08-17 16:06:44</td>\n",
       "    </tr>\n",
       "  </tbody>\n",
       "</table>\n",
       "<p>2 rows × 38 columns</p>\n",
       "</div>"
      ],
      "text/plain": [
       "   일자(stdr_de_id)  시간(tmzon_pd_se)  행정동코드(adstrd_code_se)   집계구코드(oa_cd)  \\\n",
       "2        20180317                6               11680610  1113073020101   \n",
       "4        20210706                6               11740660  1107073040015   \n",
       "\n",
       "   생활인구합계(tot_lvpop_co)  남자0~9세(male_f0t9_lvpop_co)  \\\n",
       "2             1805.5256                      4.3720   \n",
       "4              744.6219                      0.5662   \n",
       "\n",
       "   남자10~14세(male_f10t14_lvpop_co)  남자15~19세(male_f15t19_lvpop_co)  \\\n",
       "2                        324.3596                         10.8350   \n",
       "4                          2.9824                          2.9719   \n",
       "\n",
       "   남자20~24세(male_f20t24_lvpop_co)  남자25~29세(male_f25t29_lvpop_co)  ...  \\\n",
       "2                         12.1324                         20.4938  ...   \n",
       "4                         31.0868                          7.2338  ...   \n",
       "\n",
       "   여자40~44세(female_f40t44_lvpop_co)  여자45~49세(female_f45t49_lvpop_co)  \\\n",
       "2                           28.8794                           19.4895   \n",
       "4                           39.7471                            1.5230   \n",
       "\n",
       "   여자50~54세(female_f50t54_lvpop_co)  여자55~59세(female_f55t59_lvpop_co)  \\\n",
       "2                            1.6087                           16.2525   \n",
       "4                           47.5514                           63.4768   \n",
       "\n",
       "   여자60~64세(female_f60t64_lvpop_co)  여자65~69세(female_f65t69_lvpop_co)  \\\n",
       "2                            8.1640                           34.3989   \n",
       "4                           52.3638                           35.3496   \n",
       "\n",
       "   여자70~74세(female_f70t74_lvpop_co)  여자75~79세(female_f75t79_lvpop_co)  \\\n",
       "2                            3.4030                            3.8434   \n",
       "4                           32.1275                           85.6665   \n",
       "\n",
       "   여자80세이상(female_above_80_lvpop_co)      등록일자(ldadng_dt)  \n",
       "2                             4.4772  2021-08-17 16:06:44  \n",
       "4                            95.0249  2021-08-17 16:06:44  \n",
       "\n",
       "[2 rows x 38 columns]"
      ]
     },
     "execution_count": 9,
     "metadata": {},
     "output_type": "execute_result"
    }
   ],
   "source": [
    "#답변 작성"
   ]
  },
  {
   "cell_type": "markdown",
   "id": "54d079a9",
   "metadata": {},
   "source": [
    "  "
   ]
  },
  {
   "cell_type": "markdown",
   "id": "8fff1467",
   "metadata": {},
   "source": [
    "## 4. apply 활용\n",
    "\n",
    "각 행에 대해 남성 인구의 합을 구하여 `남자인구 합계` 이름을 가진 컬럼을 생성해주세요."
   ]
  },
  {
   "cell_type": "code",
   "execution_count": null,
   "id": "f03db3d5",
   "metadata": {},
   "outputs": [],
   "source": [
    "def getManPopulation(row):\n",
    "    man = 0\n",
    "    \n",
    "    #답변 작성\n",
    "            \n",
    "    return man\n",
    "\n",
    "sample['남자인구 합계'] = sample.apply(getManPopulation, axis=1)\n",
    "\n",
    "sample.head()\n"
   ]
  },
  {
   "cell_type": "markdown",
   "id": "b4b4f6d9",
   "metadata": {},
   "source": [
    "  "
   ]
  },
  {
   "cell_type": "markdown",
   "id": "eae9d4f0",
   "metadata": {},
   "source": [
    "## 5. 시각화"
   ]
  },
  {
   "cell_type": "markdown",
   "id": "d6681dc2",
   "metadata": {},
   "source": [
    "남성인구 중 남자0\\~9세가 차지하는 비율을 계산하여 \"남자0~9세 비율\" 컬럼을 만들어주세요."
   ]
  },
  {
   "cell_type": "code",
   "execution_count": null,
   "id": "db6af108",
   "metadata": {
    "scrolled": true
   },
   "outputs": [],
   "source": [
    "#답변 작성"
   ]
  },
  {
   "cell_type": "markdown",
   "id": "a8b715d3",
   "metadata": {},
   "source": [
    "시간의 흐름에 따라 전체 남자 생활인구 대비 `남자0~9세 비율`의 변화를 한 눈에 알 수 있도록  \n",
    "`남자0~9세 비율`을 선 그래프로 나타내주세요.\n",
    "\n",
    "\n",
    "* 한글 폰트가 깨지지 않도록 처리해주세요.\n",
    "* 그래프 사이즈는 20\\*10으로 해주세요."
   ]
  },
  {
   "cell_type": "code",
   "execution_count": null,
   "id": "92eac4dc",
   "metadata": {},
   "outputs": [],
   "source": [
    "import matplotlib.pyplot as plt\n",
    "\n",
    "#답변 작성"
   ]
  }
 ],
 "metadata": {
  "kernelspec": {
   "display_name": ".venv",
   "language": "python",
   "name": "python3"
  },
  "language_info": {
   "codemirror_mode": {
    "name": "ipython",
    "version": 3
   },
   "file_extension": ".py",
   "mimetype": "text/x-python",
   "name": "python",
   "nbconvert_exporter": "python",
   "pygments_lexer": "ipython3",
   "version": "3.11.4"
  }
 },
 "nbformat": 4,
 "nbformat_minor": 5
}
