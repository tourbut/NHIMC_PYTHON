{
 "cells": [
  {
   "cell_type": "markdown",
   "id": "abb4ac5b",
   "metadata": {},
   "source": [
    "## 기본 자료형과 변수\n",
    "\n",
    "문법 내용에서는 기본적인 내용만 언급합니다.  \n",
    "자잘한 메서드들은 외우는 것이 아니라 어떤 프로그래밍 언어든 검색해서 찾아내면 끝!\n",
    "\n",
    "예를들어 \"안녕하세요\" 문자에서 `안녕` 부분을 지우고 싶다면?  \n",
    "정답은 바로 **검색**  \n",
    "`파이썬 문자열 특정 부분 삭제` 이런식으로 검색하면 됍니다.\n",
    "\n",
    "주의할 점은,  \n",
    "`문법을 아는 것 = 프로그래밍을 할 줄 아는 것` 은 아니라는 점입니다.  \n",
    "프로그래밍 사고력은 연습을 통해 늘릴 수 있습니다.  \n",
    "알고리즘 문제를 풀이해본다던지, 멘토들의 코드를 보고 응용해보는 것이 방법!"
   ]
  },
  {
   "cell_type": "markdown",
   "id": "7bc959db",
   "metadata": {},
   "source": [
    "## 기본 자료형 (숫자, 문자, 참거짓)"
   ]
  },
  {
   "cell_type": "markdown",
   "id": "32170c91",
   "metadata": {},
   "source": [
    "**숫자**\n",
    "\n",
    "* 정수 (int)\n",
    "* 실수 (float)"
   ]
  },
  {
   "cell_type": "code",
   "execution_count": null,
   "id": "c4757e23",
   "metadata": {},
   "outputs": [],
   "source": [
    "print(1)\n",
    "print(1.5)"
   ]
  },
  {
   "cell_type": "markdown",
   "id": "4da72f7d",
   "metadata": {},
   "source": [
    "**type 함수**"
   ]
  },
  {
   "cell_type": "code",
   "execution_count": null,
   "id": "273d3001",
   "metadata": {
    "scrolled": true
   },
   "outputs": [],
   "source": [
    "type(1)"
   ]
  },
  {
   "cell_type": "code",
   "execution_count": null,
   "id": "42f68773",
   "metadata": {
    "scrolled": false
   },
   "outputs": [],
   "source": [
    "type(1.5)"
   ]
  },
  {
   "cell_type": "markdown",
   "id": "3285c355",
   "metadata": {},
   "source": [
    "사칙연산\n",
    "\n",
    "* \\+ : 더하기\n",
    "* \\- : 빼기\n",
    "* \\* : 곱하기\n",
    "* \\/ : 나누기\n",
    "* \\// : 몫\n",
    "* \\% : 나머지"
   ]
  },
  {
   "cell_type": "code",
   "execution_count": null,
   "id": "4c1460bd",
   "metadata": {},
   "outputs": [],
   "source": [
    "10 // 3"
   ]
  },
  {
   "cell_type": "markdown",
   "id": "7dbe9934",
   "metadata": {},
   "source": [
    "**문자**\n",
    "\n",
    "* 문자 (str)\n",
    "\n",
    "작은 따옴표 또는 큰 따옴표로 처음과 끝을 표시하여 선언"
   ]
  },
  {
   "cell_type": "markdown",
   "id": "734bc755",
   "metadata": {},
   "source": [
    "1. 큰따옴표로 양쪽 둘러싸기\n",
    "```python\n",
    "\"Hello World\"\n",
    "```\n",
    "2. 작은따옴표로 양쪽 둘러싸기\n",
    "```python\n",
    "'Python is fun'\n",
    "```\n",
    "3. 큰따옴표 3개를 연속으로 써서 양쪽 둘러싸기\n",
    "```python\n",
    "\"\"\"Life is too short, You need python\"\"\"\n",
    "```\n",
    "4. 작은따옴표 3개를 연속으로 써서 양쪽 둘러싸기\n",
    "```python\n",
    "'''Life is too short, You need python'''\n",
    "```"
   ]
  },
  {
   "cell_type": "code",
   "execution_count": null,
   "id": "497c2c82",
   "metadata": {},
   "outputs": [],
   "source": [
    "print(\"안녕\")"
   ]
  },
  {
   "cell_type": "code",
   "execution_count": null,
   "id": "3cf6304e",
   "metadata": {
    "scrolled": true
   },
   "outputs": [],
   "source": [
    "type(\"안녕\")"
   ]
  },
  {
   "cell_type": "markdown",
   "id": "5f66cd14",
   "metadata": {},
   "source": [
    "**문자의 인덱싱, 슬라이싱**\n",
    "\n",
    "주어진 문자에서 필요한 부분만 가져올 수 있음  \n",
    "대괄호 `[시작:끝:단위]`를 사용"
   ]
  },
  {
   "cell_type": "code",
   "execution_count": null,
   "id": "e8262bc8",
   "metadata": {
    "scrolled": true
   },
   "outputs": [],
   "source": [
    "\"동해물과 백두산이 마르고 닳도록\"[0:4:2]"
   ]
  },
  {
   "cell_type": "markdown",
   "id": "6e6d755b",
   "metadata": {},
   "source": [
    "**참&거짓**\n",
    "\n",
    "* 불린 (bool)\n",
    "\n",
    "True, False"
   ]
  },
  {
   "cell_type": "code",
   "execution_count": null,
   "id": "dfcd2b97",
   "metadata": {
    "scrolled": true
   },
   "outputs": [],
   "source": [
    "True"
   ]
  },
  {
   "cell_type": "markdown",
   "id": "c3b463f1",
   "metadata": {},
   "source": [
    "불(bool) 데이터는 주로 비교연산, 논리 연산의 결과로 추후 조건문, 반복문 등 프로그래밍을 할 때 자주 사용하게 됌 "
   ]
  },
  {
   "cell_type": "markdown",
   "id": "7f4b65fb",
   "metadata": {},
   "source": [
    "**비교 연산**\n",
    "\n",
    "* \\== : 같은가?\n",
    "* \\!= : 다른가?\n",
    "* \\>= : 크거나 같은가? (작거나 같은가?)\n",
    "* \\> : 큰가? (작은가?)\n"
   ]
  },
  {
   "cell_type": "code",
   "execution_count": null,
   "id": "ba0efcb1",
   "metadata": {},
   "outputs": [],
   "source": [
    "10 >= 1"
   ]
  },
  {
   "cell_type": "markdown",
   "id": "8b657bff",
   "metadata": {},
   "source": [
    "**논리 연산**\n",
    "\n",
    "* and\n",
    "* or\n",
    "* not"
   ]
  },
  {
   "cell_type": "code",
   "execution_count": null,
   "id": "8a89880d",
   "metadata": {
    "scrolled": true
   },
   "outputs": [],
   "source": [
    "False or False"
   ]
  },
  {
   "cell_type": "code",
   "execution_count": null,
   "id": "d821124d",
   "metadata": {},
   "outputs": [],
   "source": [
    "not True"
   ]
  },
  {
   "cell_type": "markdown",
   "id": "28198021",
   "metadata": {},
   "source": [
    "## 변수"
   ]
  },
  {
   "cell_type": "markdown",
   "id": "c1da9b8d",
   "metadata": {},
   "source": [
    "**변수**\n",
    "\n",
    "* 데이터를 담는 공간\n",
    "* 위에서 살펴본 자료형을 저장할 수 있음\n",
    "\n",
    "**선언방법**\n",
    "* 변수명 = 데이터"
   ]
  },
  {
   "cell_type": "code",
   "execution_count": null,
   "id": "fd8b01ec",
   "metadata": {
    "scrolled": true
   },
   "outputs": [],
   "source": [
    "# 변수명 = 데이터\n",
    "fruit1 = \"사과\"\n",
    "fruit2 = \"망고\"\n",
    "\n",
    "print(f\"첫번째 과일은 {fruit1}, 두번째 과일은 {fruit2}\")"
   ]
  }
 ],
 "metadata": {
  "kernelspec": {
   "display_name": "AITrading",
   "language": "python",
   "name": "aitradingproject"
  },
  "language_info": {
   "codemirror_mode": {
    "name": "ipython",
    "version": 3
   },
   "file_extension": ".py",
   "mimetype": "text/x-python",
   "name": "python",
   "nbconvert_exporter": "python",
   "pygments_lexer": "ipython3",
   "version": "3.9.12"
  }
 },
 "nbformat": 4,
 "nbformat_minor": 5
}
