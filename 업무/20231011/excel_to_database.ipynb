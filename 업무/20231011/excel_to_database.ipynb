{
 "cells": [
  {
   "cell_type": "code",
   "execution_count": 1,
   "metadata": {},
   "outputs": [],
   "source": [
    "import pandas as pd\n",
    "import oracledb"
   ]
  },
  {
   "cell_type": "code",
   "execution_count": 2,
   "metadata": {},
   "outputs": [],
   "source": [
    "df_1 = pd.read_excel('첨부1_임시테이블1.xlsx',dtype=str)\n",
    "df_2 = pd.read_excel('첨부2_임시테이블2.xlsx',dtype=str)\n",
    "df_3 = pd.read_excel('첨부3_임시테이블3.xlsx',dtype=str)"
   ]
  },
  {
   "cell_type": "code",
   "execution_count": 3,
   "metadata": {},
   "outputs": [
    {
     "data": {
      "text/plain": [
       "True"
      ]
     },
     "execution_count": 3,
     "metadata": {},
     "output_type": "execute_result"
    }
   ],
   "source": [
    "oracledb.init_oracle_client(lib_dir=\"C:/Oracle/product/19.0.0/client\")\n",
    "conn = oracledb.connect(user=\"nhimc_cdw\", password=\"nhimc_cdw_1!\", dsn=\"NEW_NHIMCDEV\")\n",
    "conn.is_healthy()"
   ]
  },
  {
   "cell_type": "code",
   "execution_count": 4,
   "metadata": {},
   "outputs": [
    {
     "name": "stderr",
     "output_type": "stream",
     "text": [
      "C:\\Users\\user\\AppData\\Local\\Temp\\ipykernel_22872\\2287230756.py:2: UserWarning: pandas only supports SQLAlchemy connectable (engine/connection) or database string URI or sqlite3 DBAPI2 connection. Other DBAPI2 objects are not tested. Please consider using SQLAlchemy.\n",
      "  df_1.to_sql(name='tmp_20231011_01', con=conn, if_exists='replace', index=False)\n"
     ]
    },
    {
     "ename": "DatabaseError",
     "evalue": "Execution failed on sql 'SELECT name FROM sqlite_master WHERE type='table' AND name=?;': ORA-01036: 잘못된 변수명/번호",
     "output_type": "error",
     "traceback": [
      "\u001b[1;31m---------------------------------------------------------------------------\u001b[0m",
      "\u001b[1;31mDatabaseError\u001b[0m                             Traceback (most recent call last)",
      "File \u001b[1;32mf:\\MyGit\\My\\NHIMC_PYTHON\\.venv\\Lib\\site-packages\\pandas\\io\\sql.py:2202\u001b[0m, in \u001b[0;36mSQLiteDatabase.execute\u001b[1;34m(self, sql, params)\u001b[0m\n\u001b[0;32m   2201\u001b[0m \u001b[39mtry\u001b[39;00m:\n\u001b[1;32m-> 2202\u001b[0m     cur\u001b[39m.\u001b[39;49mexecute(sql, \u001b[39m*\u001b[39;49margs)\n\u001b[0;32m   2203\u001b[0m     \u001b[39mreturn\u001b[39;00m cur\n",
      "File \u001b[1;32mf:\\MyGit\\My\\NHIMC_PYTHON\\.venv\\Lib\\site-packages\\oracledb\\cursor.py:383\u001b[0m, in \u001b[0;36mCursor.execute\u001b[1;34m(self, statement, parameters, **keyword_parameters)\u001b[0m\n\u001b[0;32m    382\u001b[0m     impl\u001b[39m.\u001b[39mbind_one(\u001b[39mself\u001b[39m, parameters)\n\u001b[1;32m--> 383\u001b[0m impl\u001b[39m.\u001b[39;49mexecute(\u001b[39mself\u001b[39;49m)\n\u001b[0;32m    384\u001b[0m \u001b[39mif\u001b[39;00m impl\u001b[39m.\u001b[39mfetch_vars \u001b[39mis\u001b[39;00m \u001b[39mnot\u001b[39;00m \u001b[39mNone\u001b[39;00m:\n",
      "File \u001b[1;32msrc\\\\oracledb\\\\impl/thick/cursor.pyx:233\u001b[0m, in \u001b[0;36moracledb.thick_impl.ThickCursorImpl.execute\u001b[1;34m()\u001b[0m\n",
      "File \u001b[1;32msrc\\\\oracledb\\\\impl/base/cursor.pyx:326\u001b[0m, in \u001b[0;36moracledb.base_impl.BaseCursorImpl._perform_binds\u001b[1;34m()\u001b[0m\n",
      "File \u001b[1;32msrc\\\\oracledb\\\\impl/thick/var.pyx:70\u001b[0m, in \u001b[0;36moracledb.thick_impl.ThickVarImpl._bind\u001b[1;34m()\u001b[0m\n",
      "File \u001b[1;32msrc\\\\oracledb\\\\impl/thick/utils.pyx:431\u001b[0m, in \u001b[0;36moracledb.thick_impl._raise_from_odpi\u001b[1;34m()\u001b[0m\n",
      "File \u001b[1;32msrc\\\\oracledb\\\\impl/thick/utils.pyx:421\u001b[0m, in \u001b[0;36moracledb.thick_impl._raise_from_info\u001b[1;34m()\u001b[0m\n",
      "\u001b[1;31mDatabaseError\u001b[0m: ORA-01036: 잘못된 변수명/번호",
      "\nThe above exception was the direct cause of the following exception:\n",
      "\u001b[1;31mDatabaseError\u001b[0m                             Traceback (most recent call last)",
      "\u001b[1;32mf:\\MyGit\\My\\NHIMC_PYTHON\\업무\\20231011\\excel_to_database.ipynb 셀 4\u001b[0m line \u001b[0;36m2\n\u001b[0;32m      <a href='vscode-notebook-cell:/f%3A/MyGit/My/NHIMC_PYTHON/%EC%97%85%EB%AC%B4/20231011/excel_to_database.ipynb#W5sZmlsZQ%3D%3D?line=0'>1</a>\u001b[0m \u001b[39m# 데이터프레임을 Oracle DB에 삽입\u001b[39;00m\n\u001b[1;32m----> <a href='vscode-notebook-cell:/f%3A/MyGit/My/NHIMC_PYTHON/%EC%97%85%EB%AC%B4/20231011/excel_to_database.ipynb#W5sZmlsZQ%3D%3D?line=1'>2</a>\u001b[0m df_1\u001b[39m.\u001b[39;49mto_sql(name\u001b[39m=\u001b[39;49m\u001b[39m'\u001b[39;49m\u001b[39mtmp_20231011_01\u001b[39;49m\u001b[39m'\u001b[39;49m, con\u001b[39m=\u001b[39;49mconn, if_exists\u001b[39m=\u001b[39;49m\u001b[39m'\u001b[39;49m\u001b[39mreplace\u001b[39;49m\u001b[39m'\u001b[39;49m, index\u001b[39m=\u001b[39;49m\u001b[39mFalse\u001b[39;49;00m)\n\u001b[0;32m      <a href='vscode-notebook-cell:/f%3A/MyGit/My/NHIMC_PYTHON/%EC%97%85%EB%AC%B4/20231011/excel_to_database.ipynb#W5sZmlsZQ%3D%3D?line=3'>4</a>\u001b[0m \u001b[39m# 연결 종료\u001b[39;00m\n\u001b[0;32m      <a href='vscode-notebook-cell:/f%3A/MyGit/My/NHIMC_PYTHON/%EC%97%85%EB%AC%B4/20231011/excel_to_database.ipynb#W5sZmlsZQ%3D%3D?line=4'>5</a>\u001b[0m conn\u001b[39m.\u001b[39mclose()\n",
      "File \u001b[1;32mf:\\MyGit\\My\\NHIMC_PYTHON\\.venv\\Lib\\site-packages\\pandas\\core\\generic.py:2878\u001b[0m, in \u001b[0;36mNDFrame.to_sql\u001b[1;34m(self, name, con, schema, if_exists, index, index_label, chunksize, dtype, method)\u001b[0m\n\u001b[0;32m   2713\u001b[0m \u001b[39m\u001b[39m\u001b[39m\"\"\"\u001b[39;00m\n\u001b[0;32m   2714\u001b[0m \u001b[39mWrite records stored in a DataFrame to a SQL database.\u001b[39;00m\n\u001b[0;32m   2715\u001b[0m \n\u001b[1;32m   (...)\u001b[0m\n\u001b[0;32m   2874\u001b[0m \u001b[39m[(1,), (None,), (2,)]\u001b[39;00m\n\u001b[0;32m   2875\u001b[0m \u001b[39m\"\"\"\u001b[39;00m  \u001b[39m# noqa:E501\u001b[39;00m\n\u001b[0;32m   2876\u001b[0m \u001b[39mfrom\u001b[39;00m \u001b[39mpandas\u001b[39;00m\u001b[39m.\u001b[39;00m\u001b[39mio\u001b[39;00m \u001b[39mimport\u001b[39;00m sql\n\u001b[1;32m-> 2878\u001b[0m \u001b[39mreturn\u001b[39;00m sql\u001b[39m.\u001b[39;49mto_sql(\n\u001b[0;32m   2879\u001b[0m     \u001b[39mself\u001b[39;49m,\n\u001b[0;32m   2880\u001b[0m     name,\n\u001b[0;32m   2881\u001b[0m     con,\n\u001b[0;32m   2882\u001b[0m     schema\u001b[39m=\u001b[39;49mschema,\n\u001b[0;32m   2883\u001b[0m     if_exists\u001b[39m=\u001b[39;49mif_exists,\n\u001b[0;32m   2884\u001b[0m     index\u001b[39m=\u001b[39;49mindex,\n\u001b[0;32m   2885\u001b[0m     index_label\u001b[39m=\u001b[39;49mindex_label,\n\u001b[0;32m   2886\u001b[0m     chunksize\u001b[39m=\u001b[39;49mchunksize,\n\u001b[0;32m   2887\u001b[0m     dtype\u001b[39m=\u001b[39;49mdtype,\n\u001b[0;32m   2888\u001b[0m     method\u001b[39m=\u001b[39;49mmethod,\n\u001b[0;32m   2889\u001b[0m )\n",
      "File \u001b[1;32mf:\\MyGit\\My\\NHIMC_PYTHON\\.venv\\Lib\\site-packages\\pandas\\io\\sql.py:769\u001b[0m, in \u001b[0;36mto_sql\u001b[1;34m(frame, name, con, schema, if_exists, index, index_label, chunksize, dtype, method, engine, **engine_kwargs)\u001b[0m\n\u001b[0;32m    764\u001b[0m     \u001b[39mraise\u001b[39;00m \u001b[39mNotImplementedError\u001b[39;00m(\n\u001b[0;32m    765\u001b[0m         \u001b[39m\"\u001b[39m\u001b[39m'\u001b[39m\u001b[39mframe\u001b[39m\u001b[39m'\u001b[39m\u001b[39m argument should be either a Series or a DataFrame\u001b[39m\u001b[39m\"\u001b[39m\n\u001b[0;32m    766\u001b[0m     )\n\u001b[0;32m    768\u001b[0m \u001b[39mwith\u001b[39;00m pandasSQL_builder(con, schema\u001b[39m=\u001b[39mschema, need_transaction\u001b[39m=\u001b[39m\u001b[39mTrue\u001b[39;00m) \u001b[39mas\u001b[39;00m pandas_sql:\n\u001b[1;32m--> 769\u001b[0m     \u001b[39mreturn\u001b[39;00m pandas_sql\u001b[39m.\u001b[39;49mto_sql(\n\u001b[0;32m    770\u001b[0m         frame,\n\u001b[0;32m    771\u001b[0m         name,\n\u001b[0;32m    772\u001b[0m         if_exists\u001b[39m=\u001b[39;49mif_exists,\n\u001b[0;32m    773\u001b[0m         index\u001b[39m=\u001b[39;49mindex,\n\u001b[0;32m    774\u001b[0m         index_label\u001b[39m=\u001b[39;49mindex_label,\n\u001b[0;32m    775\u001b[0m         schema\u001b[39m=\u001b[39;49mschema,\n\u001b[0;32m    776\u001b[0m         chunksize\u001b[39m=\u001b[39;49mchunksize,\n\u001b[0;32m    777\u001b[0m         dtype\u001b[39m=\u001b[39;49mdtype,\n\u001b[0;32m    778\u001b[0m         method\u001b[39m=\u001b[39;49mmethod,\n\u001b[0;32m    779\u001b[0m         engine\u001b[39m=\u001b[39;49mengine,\n\u001b[0;32m    780\u001b[0m         \u001b[39m*\u001b[39;49m\u001b[39m*\u001b[39;49mengine_kwargs,\n\u001b[0;32m    781\u001b[0m     )\n",
      "File \u001b[1;32mf:\\MyGit\\My\\NHIMC_PYTHON\\.venv\\Lib\\site-packages\\pandas\\io\\sql.py:2378\u001b[0m, in \u001b[0;36mSQLiteDatabase.to_sql\u001b[1;34m(self, frame, name, if_exists, index, index_label, schema, chunksize, dtype, method, engine, **engine_kwargs)\u001b[0m\n\u001b[0;32m   2367\u001b[0m             \u001b[39mraise\u001b[39;00m \u001b[39mValueError\u001b[39;00m(\u001b[39mf\u001b[39m\u001b[39m\"\u001b[39m\u001b[39m{\u001b[39;00mcol\u001b[39m}\u001b[39;00m\u001b[39m (\u001b[39m\u001b[39m{\u001b[39;00mmy_type\u001b[39m}\u001b[39;00m\u001b[39m) not a string\u001b[39m\u001b[39m\"\u001b[39m)\n\u001b[0;32m   2369\u001b[0m table \u001b[39m=\u001b[39m SQLiteTable(\n\u001b[0;32m   2370\u001b[0m     name,\n\u001b[0;32m   2371\u001b[0m     \u001b[39mself\u001b[39m,\n\u001b[1;32m   (...)\u001b[0m\n\u001b[0;32m   2376\u001b[0m     dtype\u001b[39m=\u001b[39mdtype,\n\u001b[0;32m   2377\u001b[0m )\n\u001b[1;32m-> 2378\u001b[0m table\u001b[39m.\u001b[39;49mcreate()\n\u001b[0;32m   2379\u001b[0m \u001b[39mreturn\u001b[39;00m table\u001b[39m.\u001b[39minsert(chunksize, method)\n",
      "File \u001b[1;32mf:\\MyGit\\My\\NHIMC_PYTHON\\.venv\\Lib\\site-packages\\pandas\\io\\sql.py:903\u001b[0m, in \u001b[0;36mSQLTable.create\u001b[1;34m(self)\u001b[0m\n\u001b[0;32m    902\u001b[0m \u001b[39mdef\u001b[39;00m \u001b[39mcreate\u001b[39m(\u001b[39mself\u001b[39m) \u001b[39m-\u001b[39m\u001b[39m>\u001b[39m \u001b[39mNone\u001b[39;00m:\n\u001b[1;32m--> 903\u001b[0m     \u001b[39mif\u001b[39;00m \u001b[39mself\u001b[39;49m\u001b[39m.\u001b[39;49mexists():\n\u001b[0;32m    904\u001b[0m         \u001b[39mif\u001b[39;00m \u001b[39mself\u001b[39m\u001b[39m.\u001b[39mif_exists \u001b[39m==\u001b[39m \u001b[39m\"\u001b[39m\u001b[39mfail\u001b[39m\u001b[39m\"\u001b[39m:\n\u001b[0;32m    905\u001b[0m             \u001b[39mraise\u001b[39;00m \u001b[39mValueError\u001b[39;00m(\u001b[39mf\u001b[39m\u001b[39m\"\u001b[39m\u001b[39mTable \u001b[39m\u001b[39m'\u001b[39m\u001b[39m{\u001b[39;00m\u001b[39mself\u001b[39m\u001b[39m.\u001b[39mname\u001b[39m}\u001b[39;00m\u001b[39m'\u001b[39m\u001b[39m already exists.\u001b[39m\u001b[39m\"\u001b[39m)\n",
      "File \u001b[1;32mf:\\MyGit\\My\\NHIMC_PYTHON\\.venv\\Lib\\site-packages\\pandas\\io\\sql.py:889\u001b[0m, in \u001b[0;36mSQLTable.exists\u001b[1;34m(self)\u001b[0m\n\u001b[0;32m    888\u001b[0m \u001b[39mdef\u001b[39;00m \u001b[39mexists\u001b[39m(\u001b[39mself\u001b[39m):\n\u001b[1;32m--> 889\u001b[0m     \u001b[39mreturn\u001b[39;00m \u001b[39mself\u001b[39;49m\u001b[39m.\u001b[39;49mpd_sql\u001b[39m.\u001b[39;49mhas_table(\u001b[39mself\u001b[39;49m\u001b[39m.\u001b[39;49mname, \u001b[39mself\u001b[39;49m\u001b[39m.\u001b[39;49mschema)\n",
      "File \u001b[1;32mf:\\MyGit\\My\\NHIMC_PYTHON\\.venv\\Lib\\site-packages\\pandas\\io\\sql.py:2385\u001b[0m, in \u001b[0;36mSQLiteDatabase.has_table\u001b[1;34m(self, name, schema)\u001b[0m\n\u001b[0;32m   2382\u001b[0m wld \u001b[39m=\u001b[39m \u001b[39m\"\u001b[39m\u001b[39m?\u001b[39m\u001b[39m\"\u001b[39m\n\u001b[0;32m   2383\u001b[0m query \u001b[39m=\u001b[39m \u001b[39mf\u001b[39m\u001b[39m\"\u001b[39m\u001b[39mSELECT name FROM sqlite_master WHERE type=\u001b[39m\u001b[39m'\u001b[39m\u001b[39mtable\u001b[39m\u001b[39m'\u001b[39m\u001b[39m AND name=\u001b[39m\u001b[39m{\u001b[39;00mwld\u001b[39m}\u001b[39;00m\u001b[39m;\u001b[39m\u001b[39m\"\u001b[39m\n\u001b[1;32m-> 2385\u001b[0m \u001b[39mreturn\u001b[39;00m \u001b[39mlen\u001b[39m(\u001b[39mself\u001b[39;49m\u001b[39m.\u001b[39;49mexecute(query, [name])\u001b[39m.\u001b[39mfetchall()) \u001b[39m>\u001b[39m \u001b[39m0\u001b[39m\n",
      "File \u001b[1;32mf:\\MyGit\\My\\NHIMC_PYTHON\\.venv\\Lib\\site-packages\\pandas\\io\\sql.py:2214\u001b[0m, in \u001b[0;36mSQLiteDatabase.execute\u001b[1;34m(self, sql, params)\u001b[0m\n\u001b[0;32m   2211\u001b[0m     \u001b[39mraise\u001b[39;00m ex \u001b[39mfrom\u001b[39;00m \u001b[39minner_exc\u001b[39;00m\n\u001b[0;32m   2213\u001b[0m ex \u001b[39m=\u001b[39m DatabaseError(\u001b[39mf\u001b[39m\u001b[39m\"\u001b[39m\u001b[39mExecution failed on sql \u001b[39m\u001b[39m'\u001b[39m\u001b[39m{\u001b[39;00msql\u001b[39m}\u001b[39;00m\u001b[39m'\u001b[39m\u001b[39m: \u001b[39m\u001b[39m{\u001b[39;00mexc\u001b[39m}\u001b[39;00m\u001b[39m\"\u001b[39m)\n\u001b[1;32m-> 2214\u001b[0m \u001b[39mraise\u001b[39;00m ex \u001b[39mfrom\u001b[39;00m \u001b[39mexc\u001b[39;00m\n",
      "\u001b[1;31mDatabaseError\u001b[0m: Execution failed on sql 'SELECT name FROM sqlite_master WHERE type='table' AND name=?;': ORA-01036: 잘못된 변수명/번호"
     ]
    }
   ],
   "source": [
    "# 데이터프레임을 Oracle DB에 삽입\n",
    "df_1.to_sql(name='tmp_20231011_01', con=conn, if_exists='replace', index=False)\n",
    "\n",
    "# 연결 종료\n",
    "conn.close()"
   ]
  },
  {
   "cell_type": "code",
   "execution_count": 5,
   "metadata": {},
   "outputs": [],
   "source": [
    "conn.close()"
   ]
  },
  {
   "cell_type": "code",
   "execution_count": 35,
   "metadata": {},
   "outputs": [],
   "source": [
    "from sqlalchemy import create_engine,types\n",
    "import pandas as pd\n",
    "import oracledb\n",
    "import sys\n",
    "oracledb.version = \"8.3.0\"\n",
    "sys.modules[\"cx_Oracle\"] = oracledb"
   ]
  },
  {
   "cell_type": "code",
   "execution_count": 7,
   "metadata": {},
   "outputs": [],
   "source": [
    "df_1 = pd.read_excel('첨부1_임시테이블1.xlsx',dtype=str)\n",
    "df_2 = pd.read_excel('첨부2_임시테이블2.xlsx',dtype=str)\n",
    "df_3 = pd.read_excel('첨부3_임시테이블3.xlsx',dtype=str)"
   ]
  },
  {
   "cell_type": "code",
   "execution_count": 8,
   "metadata": {},
   "outputs": [],
   "source": [
    "id = 'nhimc_cdw'\n",
    "pw = 'nhimc_cdw_1!'\n",
    "dsn = 'NEW_NHIMCDEV'\n",
    "engine = create_engine(f'oracle://{id}:{pw}@{dsn}')"
   ]
  },
  {
   "cell_type": "code",
   "execution_count": 60,
   "metadata": {},
   "outputs": [],
   "source": [
    "dtypes_1 = {col_name: types.VARCHAR(df_1[col_name].str.len().max() if not pd.isna(df_1[col_name].str.len().max()) else 100) for col_name in df_1.columns}\n",
    "dtypes_2 = {col_name: types.VARCHAR(df_2[col_name].str.len().max() if not pd.isna(df_2[col_name].str.len().max()) else 100) for col_name in df_2.columns}\n",
    "dtypes_3 = {col_name: types.VARCHAR(df_3[col_name].str.len().max() if not pd.isna(df_3[col_name].str.len().max()) else 100) for col_name in df_3.columns}"
   ]
  },
  {
   "cell_type": "code",
   "execution_count": 59,
   "metadata": {},
   "outputs": [
    {
     "name": "stderr",
     "output_type": "stream",
     "text": [
      "C:\\Users\\user\\AppData\\Local\\Temp\\ipykernel_22872\\4026955671.py:2: UserWarning: The provided table name 'TMP_504382_20231011_01' is not found exactly as such in the database after writing the table, possibly due to case sensitivity issues. Consider using lower case table names.\n",
      "  df_1.to_sql(name='TMP_504382_20231011_01', con=conn, if_exists='replace', index=False,dtype=dtypes_1)\n",
      "C:\\Users\\user\\AppData\\Local\\Temp\\ipykernel_22872\\4026955671.py:3: UserWarning: The provided table name 'TMP_504382_20231011_02' is not found exactly as such in the database after writing the table, possibly due to case sensitivity issues. Consider using lower case table names.\n",
      "  df_2.to_sql(name='TMP_504382_20231011_02', con=conn, if_exists='replace', index=False,dtype=dtypes_2)\n",
      "C:\\Users\\user\\AppData\\Local\\Temp\\ipykernel_22872\\4026955671.py:4: UserWarning: The provided table name 'TMP_504382_20231011_03' is not found exactly as such in the database after writing the table, possibly due to case sensitivity issues. Consider using lower case table names.\n",
      "  df_3.to_sql(name='TMP_504382_20231011_03', con=conn, if_exists='replace', index=False,dtype=dtypes_3)\n"
     ]
    }
   ],
   "source": [
    "with engine.connect() as conn:\n",
    "    df_1.to_sql(name='TMP_504382_20231011_01', con=conn, if_exists='replace', index=False,dtype=dtypes_1)\n",
    "    df_2.to_sql(name='TMP_504382_20231011_02', con=conn, if_exists='replace', index=False,dtype=dtypes_2)\n",
    "    df_3.to_sql(name='TMP_504382_20231011_03', con=conn, if_exists='replace', index=False,dtype=dtypes_3)"
   ]
  }
 ],
 "metadata": {
  "kernelspec": {
   "display_name": ".venv",
   "language": "python",
   "name": "python3"
  },
  "language_info": {
   "codemirror_mode": {
    "name": "ipython",
    "version": 3
   },
   "file_extension": ".py",
   "mimetype": "text/x-python",
   "name": "python",
   "nbconvert_exporter": "python",
   "pygments_lexer": "ipython3",
   "version": "3.11.4"
  }
 },
 "nbformat": 4,
 "nbformat_minor": 2
}
