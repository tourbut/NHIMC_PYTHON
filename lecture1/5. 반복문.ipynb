{
 "cells": [
  {
   "cell_type": "markdown",
   "id": "74b73f6b",
   "metadata": {},
   "source": [
    "## 반복문\n",
    "\n",
    "프로그래밍에서는 불필요한 반복을 줄이는 것이 핵심.  \n",
    "반복문은 그것을 해결해줄 방법!  \n",
    "\n",
    "#### 파이썬 반복문의 종류\n",
    "* while\n",
    "* for"
   ]
  },
  {
   "cell_type": "markdown",
   "id": "32a1992b",
   "metadata": {},
   "source": [
    "  "
   ]
  },
  {
   "cell_type": "markdown",
   "id": "b4052f40",
   "metadata": {},
   "source": [
    "  "
   ]
  },
  {
   "cell_type": "markdown",
   "id": "6a24c880",
   "metadata": {},
   "source": [
    "  "
   ]
  },
  {
   "cell_type": "markdown",
   "id": "60771ad3",
   "metadata": {},
   "source": [
    "1~10까지 숫자를 print해볼 것임.  \n",
    "먼저 반복문을 사용하기 전.."
   ]
  },
  {
   "cell_type": "code",
   "execution_count": null,
   "id": "855cb243",
   "metadata": {},
   "outputs": [],
   "source": [
    "print(1)\n",
    "print(2)\n",
    "print(3)\n",
    "print(\"********중략**********\")\n",
    "print(10)"
   ]
  },
  {
   "cell_type": "markdown",
   "id": "ee5768c1",
   "metadata": {},
   "source": [
    "  "
   ]
  },
  {
   "cell_type": "markdown",
   "id": "f5b0126c",
   "metadata": {},
   "source": [
    "  "
   ]
  },
  {
   "cell_type": "markdown",
   "id": "c8958b1b",
   "metadata": {},
   "source": [
    "  "
   ]
  },
  {
   "cell_type": "markdown",
   "id": "8fa12bee",
   "metadata": {},
   "source": [
    "## while 반복\n",
    "\n",
    "**사용법**\n",
    "\n",
    "```python\n",
    "초기값\n",
    "while 반복조건:\n",
    "    반복할 코드\n",
    "    증감식\n",
    "```"
   ]
  },
  {
   "cell_type": "code",
   "execution_count": null,
   "id": "5576bc14",
   "metadata": {},
   "outputs": [],
   "source": [
    "num = 1\n",
    "\n",
    "while num <=10:\n",
    "    print(num)\n",
    "    num += 1"
   ]
  },
  {
   "cell_type": "markdown",
   "id": "67b850f7",
   "metadata": {},
   "source": [
    "*증감조건이 없다면? -> 무한반복*\n",
    "\n",
    "필요에 따라 사용하되, while을 사용할 땐 언제 반복을 종료할지 잘 정의할 것."
   ]
  },
  {
   "cell_type": "code",
   "execution_count": null,
   "id": "0e23de0e",
   "metadata": {},
   "outputs": [],
   "source": [
    "while True:\n",
    "    print(\"무한반복\")"
   ]
  },
  {
   "cell_type": "markdown",
   "id": "0dc571c5",
   "metadata": {},
   "source": [
    "  "
   ]
  },
  {
   "cell_type": "markdown",
   "id": "ab3bf385",
   "metadata": {},
   "source": [
    "  "
   ]
  },
  {
   "cell_type": "markdown",
   "id": "8010d14a",
   "metadata": {},
   "source": [
    "  "
   ]
  },
  {
   "cell_type": "markdown",
   "id": "d96847e5",
   "metadata": {},
   "source": [
    "## for 반복\n",
    "\n",
    "**사용법**\n",
    "\n",
    "```python\n",
    "for 반복변수 in  반복대상:\n",
    "    반복할 코드\n",
    "```"
   ]
  },
  {
   "cell_type": "code",
   "execution_count": null,
   "id": "514f332c",
   "metadata": {
    "scrolled": true
   },
   "outputs": [],
   "source": [
    "# for를 사용할 때는 range 함수와 자주 사용합니다.\n",
    "for i in range(1,11):\n",
    "    print(i)"
   ]
  },
  {
   "cell_type": "code",
   "execution_count": null,
   "id": "52def565",
   "metadata": {},
   "outputs": [],
   "source": [
    "a = [i for i in range(1, 11)]\n",
    "a"
   ]
  },
  {
   "cell_type": "code",
   "execution_count": null,
   "id": "ce1b6bec",
   "metadata": {},
   "outputs": [],
   "source": [
    "for item in a:\n",
    "    print(item)"
   ]
  },
  {
   "cell_type": "code",
   "execution_count": null,
   "id": "6d58054e",
   "metadata": {},
   "outputs": [],
   "source": [
    "for char in \"hello\":\n",
    "    print(char)"
   ]
  },
  {
   "cell_type": "markdown",
   "id": "9adc27fe",
   "metadata": {},
   "source": [
    "  "
   ]
  },
  {
   "cell_type": "markdown",
   "id": "8c915661",
   "metadata": {},
   "source": [
    "  "
   ]
  },
  {
   "cell_type": "markdown",
   "id": "50da49e5",
   "metadata": {},
   "source": [
    "  "
   ]
  },
  {
   "cell_type": "markdown",
   "id": "740fc414",
   "metadata": {},
   "source": [
    "### 반복문 제어 (break, continue)\n",
    "\n",
    "* break : 반복 종료\n",
    "* contine : 건너뛰기"
   ]
  },
  {
   "cell_type": "markdown",
   "id": "b2930808",
   "metadata": {},
   "source": [
    "**break 예시 : 5까지만 출력하고 반복을 종료하자**"
   ]
  },
  {
   "cell_type": "code",
   "execution_count": null,
   "id": "d2fe7d1e",
   "metadata": {},
   "outputs": [],
   "source": [
    "for i in range(1,11):\n",
    "    if i > 5:\n",
    "        break\n",
    "    print(i)"
   ]
  },
  {
   "cell_type": "markdown",
   "id": "6d050637",
   "metadata": {},
   "source": [
    "**continue 예시 : 5는 건너뛰고 반복하자**"
   ]
  },
  {
   "cell_type": "code",
   "execution_count": null,
   "id": "b3abc447",
   "metadata": {},
   "outputs": [],
   "source": [
    "for i in range(1,11):\n",
    "    if i == 5:\n",
    "        continue\n",
    "    print(i)"
   ]
  },
  {
   "cell_type": "code",
   "execution_count": null,
   "id": "2c7427ea",
   "metadata": {},
   "outputs": [],
   "source": []
  }
 ],
 "metadata": {
  "kernelspec": {
   "display_name": "AITrading",
   "language": "python",
   "name": "aitradingproject"
  },
  "language_info": {
   "codemirror_mode": {
    "name": "ipython",
    "version": 3
   },
   "file_extension": ".py",
   "mimetype": "text/x-python",
   "name": "python",
   "nbconvert_exporter": "python",
   "pygments_lexer": "ipython3",
   "version": "3.9.12"
  }
 },
 "nbformat": 4,
 "nbformat_minor": 5
}
